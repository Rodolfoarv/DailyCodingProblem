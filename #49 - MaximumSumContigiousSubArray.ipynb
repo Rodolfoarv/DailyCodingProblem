{
 "cells": [
  {
   "cell_type": "markdown",
   "metadata": {},
   "source": [
    "# #49\n",
    "\n",
    "Given an array of numbers, find the maximum sum of any contigious subarray of the array.\n",
    "\n",
    "For example given the array [34,-50, 42, 14, -5, 86] the maximum sum would be 137, since we would take elements 42, 14, -5 and 86 which give as output 137.\n",
    "\n",
    "Given the array [-5, -1, -8, -9] the maximum sum would be 0, sicne we would take no elements. Do this in O(n) time"
   ]
  },
  {
   "cell_type": "code",
   "execution_count": 17,
   "metadata": {},
   "outputs": [],
   "source": [
    "# Solution: It is based in keeping track of the maximum element in-place within the array.\n",
    "\n",
    "\n",
    "def maximum_contigious_sum(arr):\n",
    "    current = 0\n",
    "    for i in range(len(arr)):\n",
    "        sum = current + arr[i]\n",
    "        if sum > arr[i]:\n",
    "            arr[i] = sum\n",
    "            current = arr[i]\n",
    "            \n",
    "        else:\n",
    "            current = arr[i]\n",
    "    return max(arr)"
   ]
  },
  {
   "cell_type": "code",
   "execution_count": 18,
   "metadata": {},
   "outputs": [
    {
     "name": "stdout",
     "output_type": "stream",
     "text": [
      "137\n",
      "304\n"
     ]
    }
   ],
   "source": [
    "arr = [34, -50, 42, 14, -5, 86]\n",
    "print(maximum_contigious_sum(arr))\n"
   ]
  }
 ],
 "metadata": {
  "kernelspec": {
   "display_name": "Python 3",
   "language": "python",
   "name": "python3"
  },
  "language_info": {
   "codemirror_mode": {
    "name": "ipython",
    "version": 3
   },
   "file_extension": ".py",
   "mimetype": "text/x-python",
   "name": "python",
   "nbconvert_exporter": "python",
   "pygments_lexer": "ipython3",
   "version": "3.7.3"
  }
 },
 "nbformat": 4,
 "nbformat_minor": 2
}
