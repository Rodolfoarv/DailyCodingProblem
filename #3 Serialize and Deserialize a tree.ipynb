{
 "cells": [
  {
   "cell_type": "markdown",
   "metadata": {},
   "source": [
    "# Daily Coding Problem #3\n",
    "\n",
    "Given the root to a binary tree, implement a serialize(root) which serializes the tree intoa  string, and desrialize (s) which desiarilizes the sttring back into the tree\n",
    "\n"
   ]
  },
  {
   "cell_type": "code",
   "execution_count": 16,
   "metadata": {},
   "outputs": [],
   "source": [
    "# First, defining the node class which will be used throughout all the problem\n",
    "\n",
    "class Node:\n",
    "    def __init__(self, val, left=None, right=None):\n",
    "        self.val = val\n",
    "        self.left = left\n",
    "        self.right = right\n",
    "        \n",
    "def serialize(node):\n",
    "    if node is None:\n",
    "        return '#'\n",
    "    return '{} {} {}'.format(node.val, serialize(node.left), serialize(node.right))\n",
    "    \n",
    "def deserialize(data):\n",
    "    def aux():\n",
    "        val = next(values)\n",
    "        if val == '#':\n",
    "            return None\n",
    "        node = Node(val)\n",
    "        node.left = aux()\n",
    "        node.right = aux()\n",
    "        return node\n",
    "    values = iter(data.split())\n",
    "    return aux()\n",
    "        \n",
    "node = Node('root', Node('left', Node('left.left')), Node('right'))\n",
    "assert deserialize(serialize(node)).left.left.val == 'left.left'"
   ]
  },
  {
   "cell_type": "markdown",
   "metadata": {},
   "source": [
    "# The algorithm runs in O(N) time and space since we iterate the whole tree while serializing and deserializing"
   ]
  }
 ],
 "metadata": {
  "kernelspec": {
   "display_name": "Python 3",
   "language": "python",
   "name": "python3"
  },
  "language_info": {
   "codemirror_mode": {
    "name": "ipython",
    "version": 3
   },
   "file_extension": ".py",
   "mimetype": "text/x-python",
   "name": "python",
   "nbconvert_exporter": "python",
   "pygments_lexer": "ipython3",
   "version": "3.7.3"
  }
 },
 "nbformat": 4,
 "nbformat_minor": 4
}
