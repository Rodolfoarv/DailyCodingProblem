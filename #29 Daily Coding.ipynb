{
 "cells": [
  {
   "cell_type": "markdown",
   "metadata": {},
   "source": [
    "# Daily Coding #29\n",
    "\n",
    "Run-length coding is a fast and simple method of encoding strings. The basic idea is to represent repeated, succesive characters as a single count and character. For example, the string AAAABBBCCDAA\" would be encoded as 4A3B2C2A\n",
    "\n",
    "Implement run-length encoding and decoding. You can assume the string to be encoded have no digits and consists solely of alphabetic characters. You can assume the string to be decoded is valid."
   ]
  },
  {
   "cell_type": "code",
   "execution_count": 44,
   "metadata": {},
   "outputs": [],
   "source": [
    "#Solution to this problem:\n",
    "\n",
    "def decode(s):\n",
    "    total_string = \"\"\n",
    "    \n",
    "    for i in range(0,len(s), 2):\n",
    "        total_string = total_string + str(int(s[i]) * s[i+1])\n",
    "        \n",
    "    return total_string\n",
    "        \n",
    "\n",
    "def encode(s):\n",
    "    current = \"\"\n",
    "    count = 0\n",
    "    total_string = \"\"\n",
    "    \n",
    "    for char in s:\n",
    "        if current == char:\n",
    "            count += 1\n",
    "        else:\n",
    "            if current:\n",
    "                total_string = total_string + str(count) + current\n",
    "            count = 1\n",
    "            current = char\n",
    "            \n",
    "    total_string = total_string + str(count) + current       \n",
    "            \n",
    "    return total_string\n",
    "        "
   ]
  },
  {
   "cell_type": "code",
   "execution_count": 46,
   "metadata": {},
   "outputs": [
    {
     "name": "stdout",
     "output_type": "stream",
     "text": [
      "4A3B2C1D2A\n",
      "AAAABBBCCDAA\n"
     ]
    }
   ],
   "source": [
    "s = \"AAAABBBCCDAA\"\n",
    "print(encode(s))\n",
    "\n",
    "s1 ='4A3B2C1D2A'\n",
    "\n",
    "print(decode(s1))\n",
    "\n"
   ]
  }
 ],
 "metadata": {
  "kernelspec": {
   "display_name": "Python 3",
   "language": "python",
   "name": "python3"
  },
  "language_info": {
   "codemirror_mode": {
    "name": "ipython",
    "version": 3
   },
   "file_extension": ".py",
   "mimetype": "text/x-python",
   "name": "python",
   "nbconvert_exporter": "python",
   "pygments_lexer": "ipython3",
   "version": "3.7.3"
  }
 },
 "nbformat": 4,
 "nbformat_minor": 2
}
