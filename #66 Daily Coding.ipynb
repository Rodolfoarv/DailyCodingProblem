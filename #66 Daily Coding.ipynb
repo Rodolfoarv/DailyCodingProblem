{
 "cells": [
  {
   "cell_type": "markdown",
   "metadata": {},
   "source": [
    "# Daily Coding #66\n",
    "\n",
    "Given a N by M matrix, print out the matrix in a clowise spiral. Example, given the following matrix:\n",
    "\n",
    "$$\n",
    "\\left(\\begin{array}{cc} \n",
    "1 & 2 & 3 & 4 & 5\\\\\n",
    "6 & 7 & 8 & 9 & 10 \\\\\n",
    "11 & 12 & 13 & 14 & 15 \\\\\n",
    "16 & 17 & 18 & 19 & 20 \\\\\n",
    "\\end{array}\\right)\n",
    "$$\n",
    "\n",
    "### Print :\n",
    "\n",
    "1,2,3,4,5,10,15,20,19,18,17,16,6,7,8,9,14,13,12"
   ]
  },
  {
   "cell_type": "code",
   "execution_count": 2,
   "metadata": {},
   "outputs": [],
   "source": [
    "# Solution to the problem\n",
    "\n",
    "# This solution is based on keeping track of the current position and direction. As we move along we set the value to None\n",
    "# Then once we've either hit the edge or another None Value we change the direction counterclockwise and keep going.\n",
    "\n",
    "UP = 0\n",
    "RIGHT = 1\n",
    "DOWN = 2\n",
    "LEFT = 3\n",
    "\n",
    "DIRECTIONS = [RIGHT, DOWN, LEFT, UP]\n",
    "\n",
    "def next_direction(direction):\n",
    "    if direction == RIGHT:\n",
    "        return DOWN\n",
    "    elif direction == DOWN:\n",
    "        return LEFT\n",
    "    elif direction == LEFT:\n",
    "        return UP\n",
    "    elif direction == UP:\n",
    "        return RIGHT\n",
    "    \n",
    "def next_position(position, direction):\n",
    "    if direction == RIGHT:\n",
    "        return (position[0], position[1] + 1)\n",
    "    elif direction == DOWN:\n",
    "        return (position[0] + 1, position[1])\n",
    "    elif direction == LEFT:\n",
    "        return (position[0], position[1] - 1)\n",
    "    elif direction == UP:\n",
    "        return (position[0] - 1, position[1])\n",
    "    \n",
    "def should_change_direction(M, r, c):\n",
    "    in_bounds_r = 0 <= r < len(M)\n",
    "    in_bounds_c = 0 <= c < len(M[0])\n",
    "    return not in_bounds_r or not in_bounds_c or M[r][c] is None\n",
    "\n",
    "def matrix_spiral_print(M):\n",
    "    remaining = len(M) * len(M[0])\n",
    "    current_direction = RIGHT\n",
    "    current_position = (0, 0)\n",
    "    while remaining > 0:\n",
    "        r, c = current_position\n",
    "        print(M[r][c])\n",
    "        M[r][c] = None\n",
    "        remaining -= 1\n",
    "\n",
    "        possible_next_position = next_position(current_position, current_direction)\n",
    "        if should_change_direction(M, possible_next_position[0], possible_next_position[1]):\n",
    "            current_direction = next_direction(current_direction)\n",
    "            current_position = next_position(current_position, current_direction)\n",
    "        else:\n",
    "            current_position = possible_next_position"
   ]
  },
  {
   "cell_type": "code",
   "execution_count": 8,
   "metadata": {},
   "outputs": [
    {
     "name": "stdout",
     "output_type": "stream",
     "text": [
      "1\n",
      "2\n",
      "3\n",
      "4\n",
      "5\n",
      "10\n",
      "15\n",
      "20\n",
      "19\n",
      "18\n",
      "17\n",
      "16\n",
      "11\n",
      "6\n",
      "7\n",
      "8\n",
      "9\n",
      "14\n",
      "13\n",
      "12\n"
     ]
    }
   ],
   "source": [
    "arr = [[1,2,3,4,5], [6,7,8,9,10], [11,12,13,14,15], [16,17,18,19,20]]\n",
    "\n",
    "matrix_spiral_print(arr)"
   ]
  }
 ],
 "metadata": {
  "kernelspec": {
   "display_name": "Python 3",
   "language": "python",
   "name": "python3"
  },
  "language_info": {
   "codemirror_mode": {
    "name": "ipython",
    "version": 3
   },
   "file_extension": ".py",
   "mimetype": "text/x-python",
   "name": "python",
   "nbconvert_exporter": "python",
   "pygments_lexer": "ipython3",
   "version": "3.7.3"
  }
 },
 "nbformat": 4,
 "nbformat_minor": 2
}
