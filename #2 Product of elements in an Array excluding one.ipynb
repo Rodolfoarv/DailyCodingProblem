{
 "cells": [
  {
   "cell_type": "markdown",
   "metadata": {},
   "source": [
    "# Daily Coding Problem #2\n",
    "\n",
    "Given an array of intergers, return a new array such that each element at index i of the new array is the product of all the numbers in the original array except the one at i.\n",
    "\n",
    "For example, if our input is [1,2,3,4,5] the expected output would be [120,60,40,30,24] if our input was [3,2,1] then the expected output would be [2,3,6] \n",
    "\n",
    "Follow-up **what would happen if we cannot use division**?"
   ]
  },
  {
   "cell_type": "markdown",
   "metadata": {},
   "source": [
    "## Solution with division"
   ]
  },
  {
   "cell_type": "code",
   "execution_count": 1,
   "metadata": {},
   "outputs": [],
   "source": [
    "def products_division(nums):\n",
    "    total_mult = 1\n",
    "    \n",
    "    for num in nums:\n",
    "        total_mult = total_mult * num\n",
    "        \n",
    "    for index in range(len(nums)):\n",
    "        nums[index] = total_mult // nums[index]\n",
    "        \n",
    "    return nums\n",
    "    \n",
    "    \n",
    "    "
   ]
  },
  {
   "cell_type": "code",
   "execution_count": 2,
   "metadata": {},
   "outputs": [
    {
     "name": "stdout",
     "output_type": "stream",
     "text": [
      "[120, 60, 40, 30, 24]\n"
     ]
    }
   ],
   "source": [
    "arr = [1,2,3,4,5]\n",
    "print(products_division(arr))\n"
   ]
  },
  {
   "cell_type": "markdown",
   "metadata": {},
   "source": [
    "# Runtime and Space complexity\n",
    "\n",
    "The runtime of this algorithm is $O(n)$ and the space complexity is O(1) since I am using the same array that was giving initially to store the values. Now the solution where division is not allowed:\n",
    "\n",
    "For this, I will be using two extra arrays, one that contains the prefix multiplication of the current index and one that contains the postfix. Then we can just multiply these two numbers to get our desired product."
   ]
  },
  {
   "cell_type": "code",
   "execution_count": 5,
   "metadata": {},
   "outputs": [],
   "source": [
    "def products(nums):\n",
    "    # Generate prefix products\n",
    "    prefix_products = []\n",
    "    for num in nums:\n",
    "        if prefix_products:\n",
    "            prefix_products.append(prefix_products[-1] * num)\n",
    "        else:\n",
    "            prefix_products.append(num)\n",
    "\n",
    "    # Generate suffix products\n",
    "    suffix_products = []\n",
    "    for num in reversed(nums):\n",
    "        if suffix_products:\n",
    "            suffix_products.append(suffix_products[-1] * num)\n",
    "        else:\n",
    "            suffix_products.append(num)\n",
    "    suffix_products = list(reversed(suffix_products))\n",
    "\n",
    "    # Generate result\n",
    "    result = []\n",
    "    for i in range(len(nums)):\n",
    "        if i == 0:\n",
    "            result.append(suffix_products[i + 1])\n",
    "        elif i == len(nums) - 1:\n",
    "            result.append(prefix_products[i - 1])\n",
    "        else:\n",
    "            result.append(prefix_products[i - 1] * suffix_products[i + 1])\n",
    "    return result\n",
    "\n",
    "\n",
    "    \n",
    "    "
   ]
  },
  {
   "cell_type": "markdown",
   "metadata": {},
   "source": [
    "# Time Complexity is O(n) and Space Complexity is O(n) since I needed to create a suffix and prefix array in order to solve the problem"
   ]
  },
  {
   "cell_type": "markdown",
   "metadata": {},
   "source": [
    "# Developing some tests with unittest in order to see if the algorithm works correctly"
   ]
  },
  {
   "cell_type": "code",
   "execution_count": 6,
   "metadata": {},
   "outputs": [
    {
     "name": "stderr",
     "output_type": "stream",
     "text": [
      ".\n",
      "----------------------------------------------------------------------\n",
      "Ran 1 test in 0.002s\n",
      "\n",
      "OK\n"
     ]
    }
   ],
   "source": [
    "import unittest\n",
    "\n",
    "class Test(unittest.TestCase):\n",
    "    data = [\n",
    "        ([1,2,3,4,5], [120,60,40,30,24]),\n",
    "        ([1,2,3], [6,3,2])\n",
    "    ]\n",
    "    \n",
    "    def test_get_product(self):\n",
    "        for inp, exp in self.data:\n",
    "            output = products(inp)\n",
    "            self.assertEqual(output, exp)\n",
    "    \n",
    "if __name__ == '__main__':\n",
    "    unittest.main(argv=['first-arg-is-ignored'], exit=False)"
   ]
  },
  {
   "cell_type": "code",
   "execution_count": null,
   "metadata": {},
   "outputs": [],
   "source": []
  }
 ],
 "metadata": {
  "kernelspec": {
   "display_name": "Python 3",
   "language": "python",
   "name": "python3"
  },
  "language_info": {
   "codemirror_mode": {
    "name": "ipython",
    "version": 3
   },
   "file_extension": ".py",
   "mimetype": "text/x-python",
   "name": "python",
   "nbconvert_exporter": "python",
   "pygments_lexer": "ipython3",
   "version": "3.7.3"
  }
 },
 "nbformat": 4,
 "nbformat_minor": 4
}
