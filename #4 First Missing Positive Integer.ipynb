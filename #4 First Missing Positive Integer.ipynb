{
 "cells": [
  {
   "cell_type": "markdown",
   "metadata": {},
   "source": [
    "# Daily Coding Problem #4\n",
    "\n",
    "Given an array of integers, find the firs tmissing positive integer in linear time and constant space. In other words find the lowest positive integer that does not exist in the array. The array can contain duplicates and negative numbers as well.\n",
    "\n",
    "For example: Given the input $[3, 4, -1, 1]$ should give $2$. The input $[1,2,0]$ should give $3$."
   ]
  },
  {
   "cell_type": "markdown",
   "metadata": {},
   "source": [
    "First I will start by developing a brute force solution in order to understand the problem and see possible patterns."
   ]
  },
  {
   "cell_type": "code",
   "execution_count": 12,
   "metadata": {},
   "outputs": [
    {
     "data": {
      "text/plain": [
       "8"
      ]
     },
     "execution_count": 12,
     "metadata": {},
     "output_type": "execute_result"
    }
   ],
   "source": [
    "def first_missing_positive_sort(arr):\n",
    "    sorted_arr = sorted(arr)\n",
    "    \n",
    "    missing_number = 1\n",
    "    for i in range(len(arr)):\n",
    "        if sorted_arr[i] > 0:\n",
    "            if missing_number != sorted_arr[i]:\n",
    "                return missing_number\n",
    "            missing_number = missing_number + 1\n",
    "    return missing_number\n",
    "        \n",
    "arr = [1,2,0,4,7,3,5,6]\n",
    "first_missing_positive_sort(arr)\n",
    "    "
   ]
  },
  {
   "cell_type": "markdown",
   "metadata": {},
   "source": [
    "# The algorithm uses **O(n)** extra space and runs in O(nlgn) because sorting takes in worst case-scenario a O(nlgn) time.\n",
    "\n",
    "Can we improve this solution? Yes we can, by creating a set"
   ]
  },
  {
   "cell_type": "code",
   "execution_count": 15,
   "metadata": {},
   "outputs": [
    {
     "data": {
      "text/plain": [
       "8"
      ]
     },
     "execution_count": 15,
     "metadata": {},
     "output_type": "execute_result"
    }
   ],
   "source": [
    "def first_missing_positive_set(arr):\n",
    "    s = set(arr)\n",
    "    i = 1\n",
    "    \n",
    "    while i in s:\n",
    "        i +=1\n",
    "    return i\n",
    "\n",
    "first_missing_positive_set(arr)"
   ]
  },
  {
   "cell_type": "markdown",
   "metadata": {},
   "source": [
    "## Although its a clean solution and it improves the time complexity to O(n) we are still using O(n) space by creating the set. \n",
    "\n",
    "Can we improve this solution to make it constant space? Let's find out"
   ]
  },
  {
   "cell_type": "code",
   "execution_count": 26,
   "metadata": {},
   "outputs": [
    {
     "data": {
      "text/plain": [
       "8"
      ]
     },
     "execution_count": 26,
     "metadata": {},
     "output_type": "execute_result"
    }
   ],
   "source": [
    "def first_mimssing_positive(arr):\n",
    "    if not arr:\n",
    "        return 1\n",
    "    \n",
    "    for i, num in enumerate(arr):\n",
    "        while i+1 != arr[i] and 0 < arr[i] <= len(arr):\n",
    "            v = arr[i]\n",
    "            arr[i], arr[v-1] = arr[v-1], arr[i]\n",
    "            if arr[i] == arr[v-1]:\n",
    "                break\n",
    "        \n",
    "    for i, num in enumerate(arr,1):\n",
    "        if i != num:\n",
    "            return i\n",
    "    \n",
    "    return len(nums) + 1\n",
    "    \n",
    "first_mimssing_positive(arr)"
   ]
  },
  {
   "cell_type": "markdown",
   "metadata": {},
   "source": [
    "## The algorithm has a space complexity of $O(1)$ and time complexity of $O(n)$\n",
    "\n",
    "The way the algorithm works is as follows: We will use the way the array is structured in order to swap the elements to the correct place they should be, ignoring elements that are negative and that are higher than the length of the array (while condition). Then we swap the elements to the place they should be. Once this is done we recur the array and return first positive element missing"
   ]
  },
  {
   "cell_type": "code",
   "execution_count": 28,
   "metadata": {},
   "outputs": [
    {
     "name": "stderr",
     "output_type": "stream",
     "text": [
      ".\n",
      "----------------------------------------------------------------------\n",
      "Ran 1 test in 0.001s\n",
      "\n",
      "OK\n"
     ]
    }
   ],
   "source": [
    "import unittest\n",
    "\n",
    "class FirstMissingPositiveTest(unittest.TestCase):\n",
    "    data = [\n",
    "        ([3,4,-1,1], 2),\n",
    "        ([1,2,0], 3),\n",
    "        ([1,2,0,4,7,3,5,6], 8)\n",
    "    ]\n",
    "    \n",
    "    def test_get_first_positive(self):\n",
    "        for inp, exp in self.data:\n",
    "            actual = first_mimssing_positive(inp)\n",
    "            self.assertEqual(actual, exp)\n",
    "            \n",
    "if __name__ == '__main__':\n",
    "    unittest.main(argv=['first-arg-is-ignored'], exit=False)"
   ]
  }
 ],
 "metadata": {
  "kernelspec": {
   "display_name": "Python 3",
   "language": "python",
   "name": "python3"
  },
  "language_info": {
   "codemirror_mode": {
    "name": "ipython",
    "version": 3
   },
   "file_extension": ".py",
   "mimetype": "text/x-python",
   "name": "python",
   "nbconvert_exporter": "python",
   "pygments_lexer": "ipython3",
   "version": "3.7.3"
  }
 },
 "nbformat": 4,
 "nbformat_minor": 4
}
