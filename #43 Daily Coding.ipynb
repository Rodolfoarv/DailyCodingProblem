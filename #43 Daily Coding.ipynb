{
 "cells": [
  {
   "cell_type": "markdown",
   "metadata": {},
   "source": [
    "# Daily Coding #43\n",
    "\n",
    "Implement a stack with the following methods:\n",
    "\n",
    "- push(val) which pushes an element to the stack\n",
    "- pop() which pops off and returns the topmost element of the stack. If there are no elements in the stack, then it should throw an error or return null\n",
    "- max() which returns the maximum element in the stack currently. If there are no elements in the stack, then it should throw an error or return null.\n",
    "\n",
    "Each method should be in constant time."
   ]
  },
  {
   "cell_type": "code",
   "execution_count": 51,
   "metadata": {},
   "outputs": [],
   "source": [
    "class Stack:\n",
    "    def __init__(self):\n",
    "        self.s = []\n",
    "        self.size = 0\n",
    "    \n",
    "    def push(self, val):\n",
    "        self.s.append(val)\n",
    "        self.size += 1\n",
    "    \n",
    "    def pop(self):\n",
    "        if self.size == 0:\n",
    "            return None\n",
    "        \n",
    "        self.size -= 1\n",
    "        return self.s.pop(self.size)\n",
    "        \n",
    "    \n",
    "    def max_value(self):\n",
    "        if self.size == 0:\n",
    "            return None\n",
    "        return max(self.s)\n",
    "    "
   ]
  },
  {
   "cell_type": "code",
   "execution_count": 52,
   "metadata": {},
   "outputs": [
    {
     "name": "stdout",
     "output_type": "stream",
     "text": [
      "6\n",
      "5\n"
     ]
    }
   ],
   "source": [
    "s = Stack()\n",
    "\n",
    "s.push(1)\n",
    "s.push(2)\n",
    "s.push(3)\n",
    "s.push(4)\n",
    "s.push(5)\n",
    "\n",
    "s.push(6)\n",
    "print(s.pop())\n",
    "\n",
    "print(s.max_value())"
   ]
  }
 ],
 "metadata": {
  "kernelspec": {
   "display_name": "Python 3",
   "language": "python",
   "name": "python3"
  },
  "language_info": {
   "codemirror_mode": {
    "name": "ipython",
    "version": 3
   },
   "file_extension": ".py",
   "mimetype": "text/x-python",
   "name": "python",
   "nbconvert_exporter": "python",
   "pygments_lexer": "ipython3",
   "version": "3.7.3"
  }
 },
 "nbformat": 4,
 "nbformat_minor": 2
}
