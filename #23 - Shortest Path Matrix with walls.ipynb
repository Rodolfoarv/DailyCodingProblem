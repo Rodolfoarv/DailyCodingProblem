{
 "cells": [
  {
   "cell_type": "markdown",
   "metadata": {},
   "source": [
    "# #23\n",
    "\n",
    "You are given an M by N matrix consisting of booleans that represents a board. Each True boolean represents a wall. Each False boolean represents a tile you can walk on.\n",
    "\n",
    "Given this matrix, a start coordinate, and an end coordinate, return the minimum number of steps required to reach the end coordinate from the start. If there is no possible path, then return null. You can move up, left, down, and right. You cannot move through walls. You cannot wrap around the edges of the board.\n",
    "\n",
    "For example, given the following board:\n",
    "\n",
    "$$\n",
    "\\left(\\begin{array}{cc} \n",
    "false & false & false & false\\\\\n",
    "true & true & false & true \\\\\n",
    "false & false & false & false \\\\\n",
    "false & false & false & false \\\\\n",
    "\\end{array}\\right)\n",
    "$$\n",
    "\n",
    "and start = (3, 0) (bottom left) and end = (0, 0) (top left), the minimum number of steps required to reach the end is 7, since we would need to go through (1, 2) because there is a wall everywhere else on the second row."
   ]
  },
  {
   "cell_type": "code",
   "execution_count": 18,
   "metadata": {},
   "outputs": [],
   "source": [
    "from collections import deque\n",
    "\n",
    "#First we will determine if the cell is walkable, this is, it does not exceed the boundaries of the array\n",
    "# Given a row and column, returns whether that tile is walkable.\n",
    "def walkable(board, row, col):\n",
    "    if row < 0 or row >= len(board):\n",
    "        return False\n",
    "    if col < 0 or col >= len(board[0]):\n",
    "        return False\n",
    "    return not board[row][col]\n",
    "\n",
    "# Gets walkable neighbouring tiles.\n",
    "def get_walkable_neighbours(board, row, col):\n",
    "    return [(r, c) for r, c in [\n",
    "        (row, col - 1),\n",
    "        (row - 1, col),\n",
    "        (row + 1, col),\n",
    "        (row, col + 1)]\n",
    "        if walkable(board, r, c)\n",
    "    ]\n",
    "\n",
    "def shortest_path(board, start, end):\n",
    "    seen = set()\n",
    "    queue = deque([(start, 0)])\n",
    "    while queue:\n",
    "        coords, count = queue.popleft()\n",
    "        if coords == end:\n",
    "            return count\n",
    "        seen.add(coords)\n",
    "        neighbours = get_walkable_neighbours(board, coords[0], coords[1])\n",
    "        queue.extend((neighbour, count + 1) for neighbour in neighbours\n",
    "                if neighbour not in seen)\n",
    "        \n",
    "\n",
    "board = [[False, False, False, False],\n",
    "        [True, True, False, True],\n",
    "        [False, False, False, False],\n",
    "        [False, False, False, False]]"
   ]
  },
  {
   "cell_type": "code",
   "execution_count": 19,
   "metadata": {},
   "outputs": [
    {
     "name": "stdout",
     "output_type": "stream",
     "text": [
      "7\n"
     ]
    }
   ],
   "source": [
    "print(shortest_path(board, (3,0), (0,0)))\n"
   ]
  }
 ],
 "metadata": {
  "kernelspec": {
   "display_name": "Python 3",
   "language": "python",
   "name": "python3"
  },
  "language_info": {
   "codemirror_mode": {
    "name": "ipython",
    "version": 3
   },
   "file_extension": ".py",
   "mimetype": "text/x-python",
   "name": "python",
   "nbconvert_exporter": "python",
   "pygments_lexer": "ipython3",
   "version": "3.7.3"
  }
 },
 "nbformat": 4,
 "nbformat_minor": 2
}
