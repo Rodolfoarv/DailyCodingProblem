{
 "cells": [
  {
   "cell_type": "markdown",
   "metadata": {},
   "source": [
    "# Daily Coding Problem #1\n",
    "\n",
    "Given a list of numbers and a number k, return whether any two numbers from the list add up to k.\n",
    "\n",
    "For example:\n",
    "\n",
    "[10,15,3,7] and k of 17, return 10+7 is 17. Are we able to do this in one pass?"
   ]
  },
  {
   "cell_type": "code",
   "execution_count": 4,
   "metadata": {},
   "outputs": [
    {
     "name": "stdout",
     "output_type": "stream",
     "text": [
      "10 + 7 = 17\n"
     ]
    }
   ],
   "source": [
    "# Brute force solution\n",
    "\n",
    "arr = [10,15,3,7]\n",
    "k = 17\n",
    "\n",
    "for i in range(len(arr)):\n",
    "    for j in arr[i+1:]:\n",
    "        if (arr[i] + j == k):\n",
    "            print('{} + {} = {}'.format(arr[i],j, arr[i] + j))\n",
    "        \n",
    "        "
   ]
  },
  {
   "cell_type": "markdown",
   "metadata": {},
   "source": [
    "# Time Complexity of Brute Force Solution = O($n^2$)"
   ]
  },
  {
   "cell_type": "markdown",
   "metadata": {},
   "source": [
    "# Another solution: Using Hashmaps"
   ]
  },
  {
   "cell_type": "code",
   "execution_count": 5,
   "metadata": {},
   "outputs": [],
   "source": [
    "def getPairs(arr, k):\n",
    "    # Creating the HashMap\n",
    "    \n",
    "    s = set()\n",
    "    \n",
    "    for number in arr:\n",
    "        temp = k - number\n",
    "        if temp in s:\n",
    "            print(\"{} + {} = {}\".format(number, temp, number+temp))  \n",
    "            return (number,temp)\n",
    "        s.add(number)"
   ]
  },
  {
   "cell_type": "code",
   "execution_count": 6,
   "metadata": {},
   "outputs": [
    {
     "name": "stdout",
     "output_type": "stream",
     "text": [
      "7 + 10 = 17\n"
     ]
    },
    {
     "data": {
      "text/plain": [
       "(7, 10)"
      ]
     },
     "execution_count": 6,
     "metadata": {},
     "output_type": "execute_result"
    }
   ],
   "source": [
    "getPairs(arr,k)"
   ]
  },
  {
   "cell_type": "code",
   "execution_count": 7,
   "metadata": {},
   "outputs": [
    {
     "name": "stderr",
     "output_type": "stream",
     "text": [
      "."
     ]
    },
    {
     "name": "stdout",
     "output_type": "stream",
     "text": [
      "7 + 10 = 17\n",
      "10 + 6 = 16\n"
     ]
    },
    {
     "name": "stderr",
     "output_type": "stream",
     "text": [
      "\n",
      "----------------------------------------------------------------------\n",
      "Ran 1 test in 0.001s\n",
      "\n",
      "OK\n"
     ]
    }
   ],
   "source": [
    "# Testing my algorithm with the unittest library\n",
    "\n",
    "import unittest\n",
    "\n",
    "class Test(unittest.TestCase):\n",
    "    data = [\n",
    "        ([10,15,3,7], 17, (7,10)),\n",
    "        ([1,4,45,6,10,8], 16, (10,6))\n",
    "    ]\n",
    "    \n",
    "    def test_getPair(self):\n",
    "        for inp,k,exp in self.data:\n",
    "            actual = getPairs(inp,k)\n",
    "            self.assertEqual(actual, exp)\n",
    "            \n",
    "if __name__ == '__main__':\n",
    "    unittest.main(argv=['first-arg-is-ignored'], exit=False)\n",
    "    \n",
    "\n",
    "            "
   ]
  },
  {
   "cell_type": "markdown",
   "metadata": {},
   "source": [
    "# Time Complexity of HashMap Algorithm  O(n), Space Complexity: O(n)"
   ]
  }
 ],
 "metadata": {
  "kernelspec": {
   "display_name": "Python 3",
   "language": "python",
   "name": "python3"
  },
  "language_info": {
   "codemirror_mode": {
    "name": "ipython",
    "version": 3
   },
   "file_extension": ".py",
   "mimetype": "text/x-python",
   "name": "python",
   "nbconvert_exporter": "python",
   "pygments_lexer": "ipython3",
   "version": "3.7.4"
  }
 },
 "nbformat": 4,
 "nbformat_minor": 2
}
