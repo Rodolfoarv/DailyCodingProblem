{
 "cells": [
  {
   "cell_type": "markdown",
   "metadata": {},
   "source": [
    "# 63 Matrix Crossword\n",
    "\n",
    "Given a 2D matrix of characters and a target word, write a function that returns whether the word can be found in the matrix by going left-to-right, or up-to-down\n",
    "\n"
   ]
  },
  {
   "cell_type": "code",
   "execution_count": 73,
   "metadata": {},
   "outputs": [],
   "source": [
    "def word_in_matrix(A, w):\n",
    "    m = len(A)\n",
    "    n = len(A[0])\n",
    "    \n",
    "    for i in range(m):\n",
    "        for j in range(n):\n",
    "            if A[i][j] == w[0]:\n",
    "                result = check_word(A[i][j:m+1], w) or check_word([row[j] for row in A[i:m+1]], w)\n",
    "                if result: return result\n",
    "    return False\n",
    "            \n",
    "            \n",
    "def check_word(B,w):\n",
    "    contains_word = True\n",
    "    if len(B) == len(w):\n",
    "        for i in range(len(B)):\n",
    "            if B[i] != w[i]:\n",
    "                return False\n",
    "    else:\n",
    "        return False\n",
    "    return contains_word\n",
    "            "
   ]
  },
  {
   "cell_type": "code",
   "execution_count": 74,
   "metadata": {},
   "outputs": [],
   "source": [
    "A = [['F', 'A', 'C', 'I'], ['O', 'B', 'Q', 'P'], ['A', 'N', 'O', 'B'], ['M', 'A', 'S', 'S']]"
   ]
  },
  {
   "cell_type": "code",
   "execution_count": 76,
   "metadata": {},
   "outputs": [
    {
     "data": {
      "text/plain": [
       "True"
      ]
     },
     "execution_count": 76,
     "metadata": {},
     "output_type": "execute_result"
    }
   ],
   "source": [
    "word_in_matrix(A, 'FOAM')"
   ]
  }
 ],
 "metadata": {
  "kernelspec": {
   "display_name": "Python 3",
   "language": "python",
   "name": "python3"
  },
  "language_info": {
   "codemirror_mode": {
    "name": "ipython",
    "version": 3
   },
   "file_extension": ".py",
   "mimetype": "text/x-python",
   "name": "python",
   "nbconvert_exporter": "python",
   "pygments_lexer": "ipython3",
   "version": "3.7.3"
  }
 },
 "nbformat": 4,
 "nbformat_minor": 2
}
