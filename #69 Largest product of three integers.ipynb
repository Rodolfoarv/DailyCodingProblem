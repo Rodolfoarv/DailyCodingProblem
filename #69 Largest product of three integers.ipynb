{
 "cells": [
  {
   "cell_type": "markdown",
   "metadata": {},
   "source": [
    "# 69 Largest product that may be obtained by multiplying three integers\n",
    "\n",
    "Given a list of integers, return the largest product that can be made by multiplying any three integers.\n",
    "\n",
    "For example, if the list is [-10, -10, 5, 2], we should return 500, since that's -10 * -10 * 5.\n",
    "\n",
    "You can assume the list has at least three integers."
   ]
  },
  {
   "cell_type": "code",
   "execution_count": null,
   "metadata": {},
   "outputs": [],
   "source": []
  }
 ],
 "metadata": {
  "kernelspec": {
   "display_name": "Python 3",
   "language": "python",
   "name": "python3"
  },
  "language_info": {
   "codemirror_mode": {
    "name": "ipython",
    "version": 3
   },
   "file_extension": ".py",
   "mimetype": "text/x-python",
   "name": "python",
   "nbconvert_exporter": "python",
   "pygments_lexer": "ipython3",
   "version": "3.7.3"
  }
 },
 "nbformat": 4,
 "nbformat_minor": 2
}
