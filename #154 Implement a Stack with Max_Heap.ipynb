{
 "cells": [
  {
   "cell_type": "markdown",
   "metadata": {},
   "source": [
    "# 154 Implementing a Stack with a Max_Heap\n",
    "\n",
    "For this problem, I will begin by implementing the Max_Heap using the heapq library and operations. Once this is done for the Stack class I will use a timestamp in order to keep track of the most recent element."
   ]
  },
  {
   "cell_type": "code",
   "execution_count": 11,
   "metadata": {},
   "outputs": [],
   "source": [
    "import heapq\n",
    "from time import time\n",
    "\n",
    "class MaxHeap:\n",
    "    \n",
    "    def __init__(self):\n",
    "        self.heap = []\n",
    "    \n",
    "    def push(self, item, priority):\n",
    "        heapq.heappush(self.heap, (-priority, item))\n",
    "\n",
    "    def pop(self):\n",
    "        _, item = heapq.heappop(self.heap)\n",
    "        return item\n",
    "    \n",
    "class Stack:\n",
    "    def __init__(self):\n",
    "        self.max_heap = MaxHeap()\n",
    "        \n",
    "        \n",
    "    def push(self, item):\n",
    "        t = time()\n",
    "        self.max_heap.push(item,t)\n",
    "    \n",
    "    def pop(self):\n",
    "        item, _ = self.max_heap.pop()\n",
    "        return item\n",
    "        "
   ]
  },
  {
   "cell_type": "markdown",
   "metadata": {},
   "source": [
    "# Runtime\n",
    "\n",
    "Runtime is O(log n) for the stack operations and O(n) space."
   ]
  }
 ],
 "metadata": {
  "kernelspec": {
   "display_name": "Python 3",
   "language": "python",
   "name": "python3"
  },
  "language_info": {
   "codemirror_mode": {
    "name": "ipython",
    "version": 3
   },
   "file_extension": ".py",
   "mimetype": "text/x-python",
   "name": "python",
   "nbconvert_exporter": "python",
   "pygments_lexer": "ipython3",
   "version": "3.7.3"
  }
 },
 "nbformat": 4,
 "nbformat_minor": 2
}
